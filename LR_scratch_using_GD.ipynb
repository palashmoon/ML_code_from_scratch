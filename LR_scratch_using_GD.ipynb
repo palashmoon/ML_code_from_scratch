{
  "nbformat": 4,
  "nbformat_minor": 0,
  "metadata": {
    "colab": {
      "provenance": []
    },
    "kernelspec": {
      "name": "python3",
      "display_name": "Python 3"
    },
    "language_info": {
      "name": "python"
    }
  },
  "cells": [
    {
      "cell_type": "code",
      "execution_count": null,
      "metadata": {
        "id": "O3UlzZySmxZb"
      },
      "outputs": [],
      "source": [
        "import numpy as np\n",
        "from sklearn.datasets import load_diabetes\n",
        "from sklearn.model_selection import train_test_split\n",
        "from sklearn.metrics import r2_score"
      ]
    },
    {
      "cell_type": "code",
      "source": [
        "X,Y = load_diabetes(return_X_y=True)\n",
        "X_train,X_test,Y_train,Y_test = train_test_split(X,Y,test_size=0.2)"
      ],
      "metadata": {
        "id": "A85I4l9Unx-P"
      },
      "execution_count": null,
      "outputs": []
    },
    {
      "cell_type": "code",
      "source": [
        "X_train.shape, Y_train.shape"
      ],
      "metadata": {
        "colab": {
          "base_uri": "https://localhost:8080/"
        },
        "id": "zeqEcYTDn-oY",
        "outputId": "c3bfe202-f49e-46ae-ad39-339645515656"
      },
      "execution_count": null,
      "outputs": [
        {
          "output_type": "execute_result",
          "data": {
            "text/plain": [
              "((353, 10), (353,))"
            ]
          },
          "metadata": {},
          "execution_count": 5
        }
      ]
    },
    {
      "cell_type": "code",
      "source": [
        "class LRscratch():\n",
        "  def __init__(self):\n",
        "    self.intercept_ = None\n",
        "    self.coeff_ = None\n",
        "\n",
        "  def fit(self, X_train, Y_train):\n",
        "    X_train = np.insert(X_train, 0, 1, axis=1)\n",
        "    beta = np.linalg.inv(X_train.T.dot(X_train)).dot(X_train.T.dot(Y_train))\n",
        "    self.intercept_ = beta[0]\n",
        "    self.coeff_ = beta[1:]\n",
        "\n",
        "  def predict(self, X_test):\n",
        "    # X_test = np.insert(X_test, 0, 1, axis=1)\n",
        "    return X_test.dot(self.coeff_) + self.intercept_"
      ],
      "metadata": {
        "id": "i347GGcBoBoA"
      },
      "execution_count": null,
      "outputs": []
    },
    {
      "cell_type": "code",
      "source": [
        "lr_scratch = LRscratch()\n",
        "lr_scratch.fit(X_train, Y_train)\n",
        "y_pred = lr_scratch.predict(X_test)"
      ],
      "metadata": {
        "id": "xYltmihVoiMd"
      },
      "execution_count": null,
      "outputs": []
    },
    {
      "cell_type": "code",
      "source": [
        "print(r2_score(Y_test, y_pred))"
      ],
      "metadata": {
        "colab": {
          "base_uri": "https://localhost:8080/"
        },
        "id": "tYHAT6n1owgY",
        "outputId": "6a3bfb50-b306-4fdc-b68d-f783798fe82a"
      },
      "execution_count": null,
      "outputs": [
        {
          "output_type": "stream",
          "name": "stdout",
          "text": [
            "0.6032165803407301\n"
          ]
        }
      ]
    },
    {
      "cell_type": "markdown",
      "source": [
        "Using Gradient Descent"
      ],
      "metadata": {
        "id": "lCgNSe9T_jd6"
      }
    },
    {
      "cell_type": "code",
      "source": [
        "from sklearn.datasets import load_diabetes, make_regression\n",
        "import numpy as np"
      ],
      "metadata": {
        "id": "W4u52hvLqlJa"
      },
      "execution_count": null,
      "outputs": []
    },
    {
      "cell_type": "code",
      "source": [
        "X, Y = make_regression(n_samples=100, n_features=1, noise=10)"
      ],
      "metadata": {
        "id": "7MOJyw3m_sKB"
      },
      "execution_count": null,
      "outputs": []
    },
    {
      "cell_type": "code",
      "source": [
        "X.shape"
      ],
      "metadata": {
        "colab": {
          "base_uri": "https://localhost:8080/"
        },
        "id": "7gzfNkcKDOXv",
        "outputId": "7fd8b020-30e2-4d3a-cedc-ce3ff6260bb7"
      },
      "execution_count": null,
      "outputs": [
        {
          "output_type": "execute_result",
          "data": {
            "text/plain": [
              "(100, 1)"
            ]
          },
          "metadata": {},
          "execution_count": 46
        }
      ]
    },
    {
      "cell_type": "code",
      "source": [
        "class LR_GD():\n",
        "  def __init__(self, lr, epochs):\n",
        "    self.m = 20\n",
        "    self.b = -100\n",
        "    self.lr = lr\n",
        "    self.epochs = epochs\n",
        "\n",
        "  def fit(self, X, Y):\n",
        "    for i in range(self.epochs):\n",
        "      slope_b = -2*np.sum(Y - self.m*X.ravel()-self.b)\n",
        "      slope_m = -2*np.sum((Y - self.m*X.ravel()-self.b)*X.ravel())\n",
        "      self.m = self.m - self.lr*slope_m\n",
        "      self.b = self.b - self.lr*slope_b\n",
        "    print(self.m, self.b)"
      ],
      "metadata": {
        "id": "abdNLwfm_5l7"
      },
      "execution_count": null,
      "outputs": []
    },
    {
      "cell_type": "code",
      "source": [
        "LR_GD = LR_GD(lr=0.01, epochs=1000)\n",
        "LR_GD.fit(X, Y)"
      ],
      "metadata": {
        "colab": {
          "base_uri": "https://localhost:8080/"
        },
        "id": "fOZDdHYF_6-3",
        "outputId": "19da651d-0f66-4e00-ca9b-cd613c409788"
      },
      "execution_count": null,
      "outputs": [
        {
          "output_type": "stream",
          "name": "stdout",
          "text": [
            "25715.03904209265 -243436.7359413026\n"
          ]
        }
      ]
    },
    {
      "cell_type": "markdown",
      "source": [
        "For Higher Dimensions"
      ],
      "metadata": {
        "id": "yfRrtARgQddZ"
      }
    },
    {
      "cell_type": "code",
      "source": [
        "from sklearn.datasets import make_regression\n",
        "import numpy as np\n",
        "from sklearn.linear_model import LinearRegression"
      ],
      "metadata": {
        "id": "TRxxpCntQcdd"
      },
      "execution_count": null,
      "outputs": []
    },
    {
      "cell_type": "code",
      "source": [
        "X, y = make_regression(n_samples=100, n_features=10, noise=10)"
      ],
      "metadata": {
        "id": "Hnjos-gbB5Xo"
      },
      "execution_count": null,
      "outputs": []
    },
    {
      "cell_type": "code",
      "source": [
        "class GD_hd():\n",
        "    def __init__(self, lr, epochs):\n",
        "      self.coeff = np.ones(X.shape[1])\n",
        "      self.intercept = 0\n",
        "      self.lr = lr\n",
        "      self.epochs = epochs\n",
        "\n",
        "    def fit(self, X, y):\n",
        "      for i in range(self.epochs):\n",
        "        y_hat = np.dot(X, self.coeff) + self.intercept\n",
        "        slope_intercept = -2*np.mean(y-y_hat)\n",
        "        slope_coeff = -2*np.mean((y-y_hat).dot(X))\n",
        "        self.intercept = self.intercept - (self.lr * slope_intercept)\n",
        "        self.coeff = self.coeff - (self.lr * slope_coeff)\n",
        "      print(self.intercept, self.coeff)\n",
        "\n",
        "    def predict(self, X):\n",
        "      return np.dot(X, self.coeff) + self.intercept\n"
      ],
      "metadata": {
        "id": "ywx6YbdBQqKq"
      },
      "execution_count": null,
      "outputs": []
    },
    {
      "cell_type": "code",
      "source": [
        "gd_higher_dimension = GD_hd(lr=0.01, epochs=100)\n",
        "gd_higher_dimension.fit(X, y)"
      ],
      "metadata": {
        "colab": {
          "base_uri": "https://localhost:8080/"
        },
        "id": "KAKUQPZGSEFn",
        "outputId": "2b2043c1-68c9-4fec-b50e-4f070a92b3b3"
      },
      "execution_count": null,
      "outputs": [
        {
          "output_type": "stream",
          "name": "stdout",
          "text": [
            "1.421224103408971 [67.18006362 67.18006362 67.18006362 67.18006362 67.18006362 67.18006362\n",
            " 67.18006362 67.18006362 67.18006362 67.18006362]\n"
          ]
        }
      ]
    },
    {
      "cell_type": "code",
      "source": [
        "actual = LinearRegression()\n",
        "actual.fit(X, y)"
      ],
      "metadata": {
        "colab": {
          "base_uri": "https://localhost:8080/",
          "height": 75
        },
        "id": "PT2myidDSJlV",
        "outputId": "7896a168-94fc-4cce-af44-1b8aea44f229"
      },
      "execution_count": null,
      "outputs": [
        {
          "output_type": "execute_result",
          "data": {
            "text/plain": [
              "LinearRegression()"
            ],
            "text/html": [
              "<style>#sk-container-id-1 {color: black;background-color: white;}#sk-container-id-1 pre{padding: 0;}#sk-container-id-1 div.sk-toggleable {background-color: white;}#sk-container-id-1 label.sk-toggleable__label {cursor: pointer;display: block;width: 100%;margin-bottom: 0;padding: 0.3em;box-sizing: border-box;text-align: center;}#sk-container-id-1 label.sk-toggleable__label-arrow:before {content: \"▸\";float: left;margin-right: 0.25em;color: #696969;}#sk-container-id-1 label.sk-toggleable__label-arrow:hover:before {color: black;}#sk-container-id-1 div.sk-estimator:hover label.sk-toggleable__label-arrow:before {color: black;}#sk-container-id-1 div.sk-toggleable__content {max-height: 0;max-width: 0;overflow: hidden;text-align: left;background-color: #f0f8ff;}#sk-container-id-1 div.sk-toggleable__content pre {margin: 0.2em;color: black;border-radius: 0.25em;background-color: #f0f8ff;}#sk-container-id-1 input.sk-toggleable__control:checked~div.sk-toggleable__content {max-height: 200px;max-width: 100%;overflow: auto;}#sk-container-id-1 input.sk-toggleable__control:checked~label.sk-toggleable__label-arrow:before {content: \"▾\";}#sk-container-id-1 div.sk-estimator input.sk-toggleable__control:checked~label.sk-toggleable__label {background-color: #d4ebff;}#sk-container-id-1 div.sk-label input.sk-toggleable__control:checked~label.sk-toggleable__label {background-color: #d4ebff;}#sk-container-id-1 input.sk-hidden--visually {border: 0;clip: rect(1px 1px 1px 1px);clip: rect(1px, 1px, 1px, 1px);height: 1px;margin: -1px;overflow: hidden;padding: 0;position: absolute;width: 1px;}#sk-container-id-1 div.sk-estimator {font-family: monospace;background-color: #f0f8ff;border: 1px dotted black;border-radius: 0.25em;box-sizing: border-box;margin-bottom: 0.5em;}#sk-container-id-1 div.sk-estimator:hover {background-color: #d4ebff;}#sk-container-id-1 div.sk-parallel-item::after {content: \"\";width: 100%;border-bottom: 1px solid gray;flex-grow: 1;}#sk-container-id-1 div.sk-label:hover label.sk-toggleable__label {background-color: #d4ebff;}#sk-container-id-1 div.sk-serial::before {content: \"\";position: absolute;border-left: 1px solid gray;box-sizing: border-box;top: 0;bottom: 0;left: 50%;z-index: 0;}#sk-container-id-1 div.sk-serial {display: flex;flex-direction: column;align-items: center;background-color: white;padding-right: 0.2em;padding-left: 0.2em;position: relative;}#sk-container-id-1 div.sk-item {position: relative;z-index: 1;}#sk-container-id-1 div.sk-parallel {display: flex;align-items: stretch;justify-content: center;background-color: white;position: relative;}#sk-container-id-1 div.sk-item::before, #sk-container-id-1 div.sk-parallel-item::before {content: \"\";position: absolute;border-left: 1px solid gray;box-sizing: border-box;top: 0;bottom: 0;left: 50%;z-index: -1;}#sk-container-id-1 div.sk-parallel-item {display: flex;flex-direction: column;z-index: 1;position: relative;background-color: white;}#sk-container-id-1 div.sk-parallel-item:first-child::after {align-self: flex-end;width: 50%;}#sk-container-id-1 div.sk-parallel-item:last-child::after {align-self: flex-start;width: 50%;}#sk-container-id-1 div.sk-parallel-item:only-child::after {width: 0;}#sk-container-id-1 div.sk-dashed-wrapped {border: 1px dashed gray;margin: 0 0.4em 0.5em 0.4em;box-sizing: border-box;padding-bottom: 0.4em;background-color: white;}#sk-container-id-1 div.sk-label label {font-family: monospace;font-weight: bold;display: inline-block;line-height: 1.2em;}#sk-container-id-1 div.sk-label-container {text-align: center;}#sk-container-id-1 div.sk-container {/* jupyter's `normalize.less` sets `[hidden] { display: none; }` but bootstrap.min.css set `[hidden] { display: none !important; }` so we also need the `!important` here to be able to override the default hidden behavior on the sphinx rendered scikit-learn.org. See: https://github.com/scikit-learn/scikit-learn/issues/21755 */display: inline-block !important;position: relative;}#sk-container-id-1 div.sk-text-repr-fallback {display: none;}</style><div id=\"sk-container-id-1\" class=\"sk-top-container\"><div class=\"sk-text-repr-fallback\"><pre>LinearRegression()</pre><b>In a Jupyter environment, please rerun this cell to show the HTML representation or trust the notebook. <br />On GitHub, the HTML representation is unable to render, please try loading this page with nbviewer.org.</b></div><div class=\"sk-container\" hidden><div class=\"sk-item\"><div class=\"sk-estimator sk-toggleable\"><input class=\"sk-toggleable__control sk-hidden--visually\" id=\"sk-estimator-id-1\" type=\"checkbox\" checked><label for=\"sk-estimator-id-1\" class=\"sk-toggleable__label sk-toggleable__label-arrow\">LinearRegression</label><div class=\"sk-toggleable__content\"><pre>LinearRegression()</pre></div></div></div></div></div>"
            ]
          },
          "metadata": {},
          "execution_count": 67
        }
      ]
    },
    {
      "cell_type": "code",
      "source": [
        "actual.coef_"
      ],
      "metadata": {
        "colab": {
          "base_uri": "https://localhost:8080/"
        },
        "id": "Ky9OAitSS8hL",
        "outputId": "820b7dd3-400e-4a3e-90c3-294f44f21068"
      },
      "execution_count": null,
      "outputs": [
        {
          "output_type": "execute_result",
          "data": {
            "text/plain": [
              "array([67.66265584, 17.22042122, 60.26642582, 76.69458477, 71.60549187,\n",
              "       19.90460882, 35.57277609, 41.54021466, 30.70872065, 46.77825276])"
            ]
          },
          "metadata": {},
          "execution_count": 69
        }
      ]
    },
    {
      "cell_type": "code",
      "source": [
        "actual.intercept_"
      ],
      "metadata": {
        "colab": {
          "base_uri": "https://localhost:8080/"
        },
        "id": "f53lremXS-o3",
        "outputId": "051a5515-c9b8-46b2-a44a-d84a9aa9a2a8"
      },
      "execution_count": null,
      "outputs": [
        {
          "output_type": "execute_result",
          "data": {
            "text/plain": [
              "1.3175347866250195"
            ]
          },
          "metadata": {},
          "execution_count": 70
        }
      ]
    },
    {
      "cell_type": "markdown",
      "source": [
        "Stocastic Gradient Descent"
      ],
      "metadata": {
        "id": "MC5GmgITZQFR"
      }
    },
    {
      "cell_type": "code",
      "source": [
        "from sklearn.datasets import make_regression\n",
        "import numpy as np\n",
        "from sklearn.linear_model import LinearRegression\n",
        "from sklearn.model_selection import train_test_split\n",
        "from sklearn.metrics import r2_score"
      ],
      "metadata": {
        "id": "gzxlDiMcTHYM"
      },
      "execution_count": null,
      "outputs": []
    },
    {
      "cell_type": "code",
      "source": [
        "X, y = make_regression(n_samples=100, n_features=10)\n",
        "X_train, X_test, y_train, y_test = train_test_split(X, y, test_size=0.2)"
      ],
      "metadata": {
        "id": "W4OogHeVZVkT"
      },
      "execution_count": null,
      "outputs": []
    },
    {
      "cell_type": "code",
      "source": [
        "class SGD_hd():\n",
        "    def __init__(self, lr, epochs):\n",
        "      self.coeff = np.ones(X.shape[1])\n",
        "      self.intercept = 120\n",
        "      self.lr = lr\n",
        "      self.epochs = epochs\n",
        "\n",
        "    def fit(self, X, y):\n",
        "      for i in range(self.epochs):\n",
        "        for j in range(X.shape[0]):\n",
        "          idx = np.random.randint(0, X.shape[0])\n",
        "          y_hat = np.dot(X[idx], self.coeff) + self.intercept\n",
        "          slope_intercept = -2*(y[idx]-y_hat)\n",
        "          slope_coeff = -2*(y[idx]-y_hat)*X[idx]\n",
        "          self.intercept = self.intercept - (self.lr * slope_intercept)\n",
        "          self.coeff = self.coeff - (self.lr * slope_coeff)\n",
        "      print(self.intercept, self.coeff)\n",
        "\n",
        "    def predict(self, X):\n",
        "      return np.dot(X, self.coeff) + self.intercept\n"
      ],
      "metadata": {
        "id": "z9kkaFIgZed7"
      },
      "execution_count": null,
      "outputs": []
    },
    {
      "cell_type": "code",
      "source": [
        "sgd = SGD_hd(lr=0.01, epochs=50)\n",
        "sgd.fit(X_train, y_train)"
      ],
      "metadata": {
        "colab": {
          "base_uri": "https://localhost:8080/"
        },
        "id": "VJ-6lVTcZuVh",
        "outputId": "1f154c35-f19f-4771-9920-07fffeddf435"
      },
      "execution_count": null,
      "outputs": [
        {
          "output_type": "stream",
          "name": "stdout",
          "text": [
            "-5.210164887162972e-15 [64.13357022 44.19297706 77.7251166  43.1538982  46.18471905 66.17820262\n",
            " 49.50640728 97.89301551 60.20380651 56.04580355]\n"
          ]
        }
      ]
    },
    {
      "cell_type": "code",
      "source": [
        "y_pred = sgd.predict(X_test)"
      ],
      "metadata": {
        "id": "I4-vN53hZ6tj"
      },
      "execution_count": null,
      "outputs": []
    },
    {
      "cell_type": "code",
      "source": [
        "r2_score(y_test, y_pred)"
      ],
      "metadata": {
        "colab": {
          "base_uri": "https://localhost:8080/"
        },
        "id": "qHxEMXpDafue",
        "outputId": "d01b400d-b840-49d4-b781-e520a8461ae3"
      },
      "execution_count": null,
      "outputs": [
        {
          "output_type": "execute_result",
          "data": {
            "text/plain": [
              "1.0"
            ]
          },
          "metadata": {},
          "execution_count": 44
        }
      ]
    },
    {
      "cell_type": "code",
      "source": [],
      "metadata": {
        "id": "GPI2ORlmajuh"
      },
      "execution_count": null,
      "outputs": []
    }
  ]
}